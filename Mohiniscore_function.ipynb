{
  "cells": [
    {
      "cell_type": "markdown",
      "metadata": {
        "id": "qO1kx2ynzNlG"
      },
      "source": [
        "Before you turn this problem in, make sure everything runs as expected. First, **restart the kernel** (in the menubar, select Kernel$\\rightarrow$Restart) and then **run all cells** (in the menubar, select Cell$\\rightarrow$Run All).\n",
        "\n",
        "Make sure you fill in any place that says `YOUR CODE HERE` or \"YOUR ANSWER HERE\", as well as your name and collaborators below:"
      ]
    },
    {
      "cell_type": "code",
      "execution_count": null,
      "metadata": {
        "id": "oRGtlutyzNlI"
      },
      "outputs": [],
      "source": [
        "NAME = \"Mohini Khedekar\"\n",
        "COLLABORATORS = \"\""
      ]
    },
    {
      "cell_type": "markdown",
      "metadata": {
        "id": "ldoFZhPZzNlJ"
      },
      "source": [
        "---"
      ]
    },
    {
      "cell_type": "markdown",
      "metadata": {
        "id": "mkO_m2cQzNlJ"
      },
      "source": [
        "# Rosetta Energy Score Functions"
      ]
    },
    {
      "cell_type": "markdown",
      "metadata": {
        "id": "SFXn1BOuzNlK"
      },
      "source": [
        "A basic function of Rosetta is calculating the energy or score of a biomolecule. Rosetta has a standard energy function for all-atom calculations as well as several scoring functions for low-resolution protein representations. See https://www.ncbi.nlm.nih.gov/pubmed/28430426 for a review on the all-atom score functions.\n",
        "\n",
        "You can also tailor an energy function by including scoring terms of your choice with custom weights."
      ]
    },
    {
      "cell_type": "markdown",
      "metadata": {
        "id": "YiBP2StnzNlL"
      },
      "source": [
        "**Chapter contributors:**\n",
        "\n",
        "- Kathy Le (Johns Hopkins University) adapted this chapter from the [PyRosetta Workshops](https://www.amazon.com/PyRosetta-Interactive-Platform-Structure-Prediction-ebook/dp/B01N21DRY8) (J. J. Gray, S. Chaudhury, S. Lyskov, J. Labonte, 2017)."
      ]
    },
    {
      "cell_type": "markdown",
      "metadata": {
        "deletable": false,
        "editable": false,
        "id": "JN1itcBVzNlL",
        "nbgrader": {
          "cell_type": "markdown",
          "checksum": "c89eb5f9776b6d5cabbdd15abea6ad0b",
          "grade": false,
          "grade_id": "cell-eeaeae18e9d996eb",
          "locked": true,
          "schema_version": 3,
          "solution": false
        }
      },
      "source": [
        "# Score Function Basics\n",
        "Keywords: score function, ScoreFunction(), get_score_function(), set_weight(), show(), etable_atom_pair_energies(), Atom objects, get_hbonds(), nhbonds(), residue_hbonds()"
      ]
    },
    {
      "cell_type": "code",
      "execution_count": 1,
      "metadata": {
        "id": "WeYMyICuzNlM",
        "colab": {
          "base_uri": "https://localhost:8080/"
        },
        "outputId": "50752963-2c01-475b-9c35-bd5349fe9d34"
      },
      "outputs": [
        {
          "output_type": "stream",
          "name": "stdout",
          "text": [
            "Looking in indexes: https://pypi.org/simple, https://us-python.pkg.dev/colab-wheels/public/simple/\n",
            "Collecting pyrosettacolabsetup\n",
            "  Downloading pyrosettacolabsetup-1.0.6-py3-none-any.whl (4.7 kB)\n",
            "Installing collected packages: pyrosettacolabsetup\n",
            "Successfully installed pyrosettacolabsetup-1.0.6\n",
            "Mounted at /content/google_drive\n",
            "Looking for compatible PyRosetta wheel file at google-drive/PyRosetta/colab.bin/wheels...\n",
            "Found compatible wheel: /content/google_drive/MyDrive/PyRosetta/colab.bin/wheels//content/google_drive/MyDrive/PyRosetta/colab.bin/wheels/pyrosetta-2023.19+release.d7aa7f94e8b-cp310-cp310-linux_x86_64.whl\n",
            "Looking in indexes: https://pypi.org/simple, https://us-python.pkg.dev/colab-wheels/public/simple/\n",
            "\n",
            "\n",
            "PyRosetta-4 2023 [Rosetta PyRosetta4.MinSizeRel.python310.ubuntu 2023.19+release.d7aa7f94e8be5e9d5110d37f167c2a7afd30c530 2023-05-08T16:22:16] retrieved from: http://www.pyrosetta.org\n",
            "(C) Copyright Rosetta Commons Member Institutions. Created in JHU by Sergey Lyskov and PyRosetta Team.\n",
            "core.init: Checking for fconfig files in pwd and ./rosetta/flags\n",
            "core.init: Rosetta version: PyRosetta4.MinSizeRel.python310.ubuntu r348 2023.19+release.d7aa7f94e8b d7aa7f94e8be5e9d5110d37f167c2a7afd30c530 http://www.pyrosetta.org 2023-05-08T16:22:16\n",
            "core.init: command: PyRosetta -ex1 -ex2aro -database /usr/local/lib/python3.10/dist-packages/pyrosetta/database\n",
            "basic.random.init_random_generator: 'RNG device' seed mode, using '/dev/urandom', seed=2144336105 seed_offset=0 real_seed=2144336105\n",
            "basic.random.init_random_generator: RandomGenerator:init: Normal mode, seed=2144336105 RG_type=mt19937\n"
          ]
        }
      ],
      "source": [
        "import sys\n",
        "if 'google.colab' in sys.modules:\n",
        "  !pip install pyrosettacolabsetup\n",
        "  import pyrosettacolabsetup\n",
        "  pyrosettacolabsetup.mount_pyrosetta_install()\n",
        "import pyrosetta\n",
        "pyrosetta.init()\n"
      ]
    },
    {
      "cell_type": "markdown",
      "metadata": {
        "id": "gBsG7h1-zNlM"
      },
      "source": [
        "**Make sure you are in the directory with the pdb files:**\n",
        "\n"
      ]
    },
    {
      "cell_type": "code",
      "execution_count": null,
      "metadata": {
        "id": "wKtoBk5czNlN"
      },
      "outputs": [],
      "source": [
        "# cd into the directory"
      ]
    },
    {
      "cell_type": "markdown",
      "metadata": {
        "id": "i5QMBxQCzNlO"
      },
      "source": [
        "In this module, we will explore the PyRosetta score function interface. You will learn to inspect energies of a biomolecule at the whole protein, per-residue, and per-atom level. Finally, you will gain practice applying the energies to answering biological questions involving proteins. For these exercises, we will use the protein Ras (PDB 6q21). You should have the PDB file \"6Q21_A.pdb\" in your `inputs/` directory. Load it into a Pose variable named `ras` with the pyrosetta.pose_from_pdb method. "
      ]
    },
    {
      "cell_type": "code",
      "execution_count": 3,
      "metadata": {
        "deletable": false,
        "id": "AqUy8HXSzNlO",
        "nbgrader": {
          "cell_type": "code",
          "checksum": "8624e224b33292b579d9f743337eb9e2",
          "grade": true,
          "grade_id": "cell-be26a363af7b009c",
          "locked": false,
          "points": 0,
          "schema_version": 3,
          "solution": true
        },
        "colab": {
          "base_uri": "https://localhost:8080/"
        },
        "outputId": "e4ad379b-11a2-428a-af0b-e85f2e28a484"
      },
      "outputs": [
        {
          "output_type": "stream",
          "name": "stdout",
          "text": [
            "core.chemical.GlobalResidueTypeSet: Finished initializing fa_standard residue type set.  Created 985 residue types\n",
            "core.chemical.GlobalResidueTypeSet: Total time to initialize 0.650683 seconds.\n",
            "core.import_pose.import_pose: File '/content/google_drive/MyDrive/codeschool2023/6q21.pdb' automatically determined to be of type PDB\n",
            "core.chemical.GlobalResidueTypeSet: Loading (but possibly not actually using) 'GCP' from the PDB components dictionary for residue type 'pdb_GCP'\n"
          ]
        }
      ],
      "source": [
        "# YOUR CODE HERE\n",
        "ras = pyrosetta.pose_from_pdb(\"/content/google_drive/MyDrive/codeschool2023/6q21.pdb\")"
      ]
    },
    {
      "cell_type": "markdown",
      "metadata": {
        "deletable": false,
        "editable": false,
        "id": "WK_inIYbzNlP",
        "nbgrader": {
          "cell_type": "markdown",
          "checksum": "fa643c83272b1075ade2fc98f989dec1",
          "grade": false,
          "grade_id": "cell-ed57c5745ba69a27",
          "locked": true,
          "schema_version": 3,
          "solution": false
        }
      },
      "source": [
        "To score a protein, you will begin by defining a score function using the `get_score_function(is_fullatom: bool)` method in the `pyrosetta.teaching` namespace. Specifying `True` will return the default `ref2015` all-atom energy function, while `False` will specify the default centroid score function.\n",
        "\n",
        "Create a PyRosetta score function using:\n",
        "```\n",
        "sfxn = get_score_function(True)\n",
        "```"
      ]
    },
    {
      "cell_type": "code",
      "execution_count": 4,
      "metadata": {
        "deletable": false,
        "id": "tWgf3YKzzNlP",
        "nbgrader": {
          "cell_type": "code",
          "checksum": "328490f1bf6bb9c3fc3605d7fb6c1cbb",
          "grade": true,
          "grade_id": "cell-a8401defb7b4a814",
          "locked": false,
          "points": 0,
          "schema_version": 3,
          "solution": true
        },
        "colab": {
          "base_uri": "https://localhost:8080/"
        },
        "outputId": "bf52db82-ca72-4d2c-d1d7-e69db8b26a73"
      },
      "outputs": [
        {
          "output_type": "stream",
          "name": "stdout",
          "text": [
            "core.scoring.ScoreFunctionFactory: SCOREFUNCTION: ref2015\n",
            "core.scoring.etable: Starting energy table calculation\n",
            "core.scoring.etable: smooth_etable: changing atr/rep split to bottom of energy well\n",
            "core.scoring.etable: smooth_etable: spline smoothing lj etables (maxdis = 6)\n",
            "core.scoring.etable: smooth_etable: spline smoothing solvation etables (max_dis = 6)\n",
            "core.scoring.etable: Finished calculating energy tables.\n",
            "basic.io.database: Database file opened: scoring/score_functions/hbonds/ref2015_params/HBPoly1D.csv\n",
            "basic.io.database: Database file opened: scoring/score_functions/hbonds/ref2015_params/HBFadeIntervals.csv\n",
            "basic.io.database: Database file opened: scoring/score_functions/hbonds/ref2015_params/HBEval.csv\n",
            "basic.io.database: Database file opened: scoring/score_functions/hbonds/ref2015_params/DonStrength.csv\n",
            "basic.io.database: Database file opened: scoring/score_functions/hbonds/ref2015_params/AccStrength.csv\n",
            "basic.io.database: Database file opened: scoring/score_functions/rama/fd/all.ramaProb\n",
            "basic.io.database: Database file opened: scoring/score_functions/rama/fd/prepro.ramaProb\n",
            "basic.io.database: Database file opened: scoring/score_functions/omega/omega_ppdep.all.txt\n",
            "basic.io.database: Database file opened: scoring/score_functions/omega/omega_ppdep.gly.txt\n",
            "basic.io.database: Database file opened: scoring/score_functions/omega/omega_ppdep.pro.txt\n",
            "basic.io.database: Database file opened: scoring/score_functions/omega/omega_ppdep.valile.txt\n",
            "basic.io.database: Database file opened: scoring/score_functions/P_AA_pp/P_AA\n",
            "basic.io.database: Database file opened: scoring/score_functions/P_AA_pp/P_AA_n\n",
            "core.scoring.P_AA: shapovalov_lib::shap_p_aa_pp_smooth_level of 1( aka low_smooth ) got activated.\n",
            "basic.io.database: Database file opened: scoring/score_functions/P_AA_pp/shapovalov/10deg/kappa131/a20.prop\n"
          ]
        }
      ],
      "source": [
        "from pyrosetta.teaching import *\n",
        "\n",
        "sfxn = get_score_function(True)"
      ]
    },
    {
      "cell_type": "markdown",
      "metadata": {
        "id": "8kyBal9CzNlQ"
      },
      "source": [
        "You can see the terms, weights, and energy method options by printing the score function:\n",
        "\n",
        "```\n",
        "print(sfxn)\n",
        "```"
      ]
    },
    {
      "cell_type": "code",
      "execution_count": 5,
      "metadata": {
        "deletable": false,
        "id": "nJH2cZPYzNlR",
        "nbgrader": {
          "cell_type": "code",
          "checksum": "e793cabed84794d2c205604837f4bf52",
          "grade": true,
          "grade_id": "cell-d9875a1b051c6971",
          "locked": false,
          "points": 0,
          "schema_version": 3,
          "solution": true
        },
        "colab": {
          "base_uri": "https://localhost:8080/"
        },
        "outputId": "23b76fbf-8ce5-46ed-87cc-81d2d56a34f7"
      },
      "outputs": [
        {
          "output_type": "stream",
          "name": "stdout",
          "text": [
            "ScoreFunction::show():\n",
            "weights: (fa_atr 1) (fa_rep 0.55) (fa_sol 1) (fa_intra_rep 0.005) (fa_intra_sol_xover4 1) (lk_ball_wtd 1) (fa_elec 1) (pro_close 1.25) (hbond_sr_bb 1) (hbond_lr_bb 1) (hbond_bb_sc 1) (hbond_sc 1) (dslf_fa13 1.25) (omega 0.4) (fa_dun 0.7) (p_aa_pp 0.6) (yhh_planarity 0.625) (ref 1) (rama_prepro 0.45)\n",
            "energy_method_options: EnergyMethodOptions::show: aa_composition_setup_files: \n",
            "EnergyMethodOptions::show: mhc_epitope_setup_files: \n",
            "EnergyMethodOptions::show: netcharge_setup_files: \n",
            "EnergyMethodOptions::show: aspartimide_penalty_value: 25\n",
            "EnergyMethodOptions::show: etable_type: FA_STANDARD_DEFAULT\n",
            "analytic_etable_evaluation: 1\n",
            "EnergyMethodOptions::show: method_weights: ref 1.32468 3.25479 -2.14574 -2.72453 1.21829 0.79816 -0.30065 2.30374 -0.71458 1.66147 1.65735 -1.34026 -1.64321 -1.45095 -0.09474 -0.28969 1.15175 2.64269 2.26099 0.58223\n",
            "EnergyMethodOptions::show: method_weights: free_res\n",
            "EnergyMethodOptions::show: unfolded_energies_type: UNFOLDED_SCORE12\n",
            "EnergyMethodOptions::show: split_unfolded_label_type: SPLIT_UNFOLDED_MM\n",
            "EnergyMethodOptions::show: split_unfolded_value_type: SPLIT_UNFOLDED_BOLTZ\n",
            "EnergyMethodOptions::show: atom_vdw_atom_type_set_name: centroid\n",
            "EnergyMethodOptions::show: covalent_labeling_input: \n",
            "EnergyMethodOptions::show: covalent_labeling_fa_input: \n",
            "EnergyMethodOptions::show: hrf_dynamics_input: \n",
            "EnergyMethodOptions::show: depc_ms_input: \n",
            "EnergyMethodOptions::show: exclude_protein_protein_fa_elec: false\n",
            "EnergyMethodOptions::show: exclude_RNA_RNA_fa_elec: false\n",
            "EnergyMethodOptions::show: exclude_RNA_protein_fa_elec: false\n",
            "EnergyMethodOptions::show: exclude_monomer_fa_elec: false\n",
            "EnergyMethodOptions::show: elec_max_dis: 5.5\n",
            "EnergyMethodOptions::show: elec_min_dis: 1.6\n",
            "EnergyMethodOptions::show: elec_die: 10\n",
            "EnergyMethodOptions::show: elec_no_dis_dep_die: false\n",
            "EnergyMethodOptions::show: elec_sigmoidal_die: true\n",
            "EnergyMethodOptions::show: elec_sigmoidal_D: 80\n",
            "EnergyMethodOptions::show: elec_sigmoidal_D0: 6\n",
            "EnergyMethodOptions::show: elec_sigmoidal_S: 0.4\n",
            "EnergyMethodOptions::show: smooth_fa_elec: true\n",
            "EnergyMethodOptions::show: grpelec_fade_type: false\n",
            "EnergyMethodOptions::show: grpelec_fade_param1: 1\n",
            "EnergyMethodOptions::show: grpelec_fade_param2: 1\n",
            "EnergyMethodOptions::show: grpelec_fade_hbond: 0\n",
            "EnergyMethodOptions::show: grp_cpfxn: 1\n",
            "EnergyMethodOptions::show: elec_group_file: /scoring/score_functions/elec_group_def.dat\n",
            "EnergyMethodOptions::show: grpelec_context_dependent: 0\n",
            "EnergyMethodOptions::show: use_polarization: true\n",
            "EnergyMethodOptions::show: use_gen_kirkwood: true\n",
            "EnergyMethodOptions::show: protein_dielectric: 1\n",
            "EnergyMethodOptions::show: water_dielectric: 78.3\n",
            "EnergyMethodOptions::show: exclude_DNA_DNA: false\n",
            "EnergyMethodOptions::show: exclude_intra_res_protein: false\n",
            "EnergyMethodOptions::show: count_pair_hybrid: false\n",
            "EnergyMethodOptions::show: count_pair_full: false\n",
            "EnergyMethodOptions::show: put_intra_into_total: false\n",
            "EnergyMethodOptions::show: geom_sol_interres_path_distance_cutoff: false\n",
            "EnergyMethodOptions::show: geom_sol_intrares_path_distance_cutoff: true\n",
            "EnergyMethodOptions::show: eval_intrares_elec_ST_only: false\n",
            "EnergyMethodOptions::show: envsmooth_zero_negatives: false\n",
            "EnergyMethodOptions::show: cst_max_seq_sep: 18446744073709551615\n",
            "EnergyMethodOptions::show: pb_bound_tag: bound\n",
            "EnergyMethodOptions::show: pb_unbound_tag: unbound\n",
            "EnergyMethodOptions::show: arg_cation_pi_his_can_be_pi: 1\n",
            "EnergyMethodOptions::show: ordered_wat_penalty: 1.221\n",
            "EnergyMethodOptions::show: ordered_pt_wat_penalty: 2.709\n",
            "EnergyMethodOptions::show: nmer_ref_seq_length_: 9\n",
            "EnergyMethodOptions::show: nmer_svm_term_length_: 3\n",
            "EnergyMethodOptions::show: nmer_svm_pssm_feat_: 1\n",
            "EnergyMethodOptions::show: nmer_svm_scorecut_defined_: 0\n",
            "EnergyMethodOptions::show: nmer_svm_scorecut_: 0\n",
            "EnergyMethodOptions::show: nmer_svm_avg_rank_as_energy_: 0\n",
            "EnergyMethodOptions::show: nmer_svm_aa_matrix_defined_: 0\n",
            "EnergyMethodOptions::show: nmer_svm_aa_matrix_: \n",
            "EnergyMethodOptions::show: nmer_svm_list_defined_: 0\n",
            "EnergyMethodOptions::show: nmer_svm_list_: \n",
            "EnergyMethodOptions::show: nmer_svm_defined_: 0\n",
            "EnergyMethodOptions::show: nmer_svm_: \n",
            "EnergyMethodOptions::show: nmer_svm_rank_list_defined_: 0\n",
            "EnergyMethodOptions::show: nmer_svm_rank_list_: \n",
            "EnergyMethodOptions::show: nmer_svm_rank_defined_: 0\n",
            "EnergyMethodOptions::show: nmer_svm_rank_: \n",
            "EnergyMethodOptions::show: voids_penalty_energy_containing_cones_cutoff_:6\n",
            "EnergyMethodOptions::show: voids_penalty_energy_cone_distance_cutoff_: 8\n",
            "EnergyMethodOptions::show: voids_penalty_energy_cone_dotproduct_cutoff_: 0.1\n",
            "EnergyMethodOptions::show: voids_penalty_energy_voxel_grid_padding_: 1\n",
            "EnergyMethodOptions::show: voids_penalty_energy_voxel_size_: 0.5\n",
            "EnergyMethodOptions::show: voids_penalty_energy_disabled_except_during_packing_: TRUE\n",
            "EnergyMethodOptions::show: hbnet_bonus_ramping_function_: \"quadratic\"\n",
            "EnergyMethodOptions::show: hbnet_max_network_size_: 0\n",
            "EnergyMethodOptions::show: approximate_buried_unsat_penalty_hbond_energy_threshold_: -0.25\n",
            "EnergyMethodOptions::show: approximate_buried_unsat_penalty_burial_atomic_depth_: 4.5\n",
            "EnergyMethodOptions::show: approximate_buried_unsat_penalty_burial_probe_radius_: 2.3\n",
            "EnergyMethodOptions::show: approximate_buried_unsat_penalty_burial_resolution_: 0.5\n",
            "EnergyMethodOptions::show: approximate_buried_unsat_penalty_oversat_penalty_: 1\n",
            "EnergyMethodOptions::show: approximate_buried_unsat_penalty_assume_const_backbone_:1\n",
            "EnergyMethodOptions::show: approximate_buried_unsat_penalty_natural_corrections1_:0\n",
            "EnergyMethodOptions::show: approximate_buried_unsat_penalty_hbond_bonus_cross_chain_:0\n",
            "EnergyMethodOptions::show: approximate_buried_unsat_penalty_hbond_bonus_ser_to_helix_bb_:0\n",
            "EnergyMethodOptions::show: approximate_buried_unsat_penalty_lys_ok_with_1_:0\n",
            "EnergyMethodOptions::show: target_clash_pdb_:\n",
            "EnergyMethodOptions::show: dump_trajectory_prefix_: traj\n",
            "EnergyMethodOptions::show: dump_trajectory_gz_: FALSE\n",
            "EnergyMethodOptions::show: dump_trajectory_stride_: 1\n",
            "EnergyMethodOptions::show: bond_angle_central_atoms_to_score:\n",
            "EnergyMethodOptions::show: bond_angle_residue_type_param_set: none\n",
            "HBondOptions::show: hb_max_energy: 0\n",
            "HBondOptions::show: exclude_DNA_DNA: false\n",
            "HBondOptions::show: exclude_intra_res_protein_: false\n",
            "HBondOptions::show: exclude_intra_res_RNA_: false\n",
            "HBondOptions::show: put_intra_into_total_: false\n",
            "HBondOptions::show: exclude_self_hbonds: true\n",
            "HBondOptions::show: use_hb_env_dep: false\n",
            "HBondOptions::show: use_hb_env_dep_DNA: true\n",
            "HBondOptions::show: smooth_hb_env_dep: true\n",
            "HBondOptions::show: bb_donor_acceptor_check: true\n",
            "HBondOptions::show: decompose_bb_hb_into_pair_energies: false\n",
            "HBondOptions::show: params_database_tag_: ref2015_params\n",
            "HBondOptions::show: use_sp2_chi_penalty_: true\n",
            "HBondOptions::show: sp2_BAH180_rise_: 0.75\n",
            "HBondOptions::show: sp2_outer_width_: 0.357\n",
            "HBondOptions::show: measure_sp3acc_BAH_from_hvy_: true\n",
            "HBondOptions::show: fade_energy_: 1\n",
            "HBondOptions::show: exclude_ether_oxygens_: 0\n",
            "HBondOptions::show: Mbhbond: false \n",
            "HbondOptions::show: mphbond: false\n",
            "HBondOptions::show: hbond_energy_shift: 0\n",
            "HBondOptions::show: water_hybrid_sf: false\n",
            "RNA_EnergyMethodOptions::show: syn_G_potential_bonus: 0\n",
            "RNA_EnergyMethodOptions::show: torsion_potential: ps_04282011\n",
            "RNA_EnergyMethodOptions::show: suiteness_bonus: Richardson\n",
            "RNA_EnergyMethodOptions::show: rna_base_pair_xy_filename: scoring/rna/rna_base_pair_xy.dat\n",
            "FreeDOF_Options::show: free_suite_bonus: -1\n",
            "FreeDOF_Options::show: free_2HOprime_bonus: -0.5\n",
            "FreeDOF_Options::show: free_sugar_bonus: -1\n",
            "FreeDOF_Options::show: pack_phosphate_penalty: 0.25\n",
            "FreeDOF_Options::show: free_side_chain_bonus: -0.5\n",
            "\n",
            "\n"
          ]
        }
      ],
      "source": [
        "# YOUR CODE HERE\n",
        "print(sfxn)"
      ]
    },
    {
      "cell_type": "markdown",
      "metadata": {
        "id": "q9K_jHf6zNlR"
      },
      "source": [
        "## Practice: List the terms in the energy function and their relative weights\n",
        "\n",
        "**Hint:** look at the top line that starts with 'weights'"
      ]
    },
    {
      "cell_type": "code",
      "execution_count": null,
      "metadata": {
        "deletable": false,
        "id": "YSBMcGNCzNlR",
        "nbgrader": {
          "cell_type": "code",
          "checksum": "bbe491ab4f30d80962acb4037b159f7e",
          "grade": true,
          "grade_id": "cell-22ba33466d6eb287",
          "locked": false,
          "points": 0,
          "schema_version": 3,
          "solution": true
        }
      },
      "outputs": [],
      "source": [
        "## Your Response Here\n",
        "\n",
        "#(fa_atr 1) (fa_rep 0.55) (fa_sol 1) (fa_intra_rep 0.005) (fa_intra_sol_xover4 1) (lk_ball_wtd 1) (fa_elec 1) (pro_close 1.25) (hbond_sr_bb 1) (hbond_lr_bb 1) (hbond_bb_sc 1) (hbond_sc 1) (dslf_fa13 1.25) (omega 0.4) (fa_dun 0.7) (p_aa_pp 0.6) (yhh_planarity 0.625) (ref 1) (rama_prepro 0.45)"
      ]
    },
    {
      "cell_type": "markdown",
      "metadata": {
        "id": "21BHAZrQzNlR"
      },
      "source": [
        "## Custom energy functions"
      ]
    },
    {
      "cell_type": "markdown",
      "metadata": {
        "id": "Jpd-3-9ZzNlR"
      },
      "source": [
        "You can also create a custom energy function that includes select terms. Typically, creating a whole new score function is unneccesary because the current one works well in most cases. However, tweaking the current enrgy function by reassigning weights and adding certain energy terms can be useful.\n",
        "\n",
        "Here, we will make an example energy function with only the van der Waals attractive and repulsive terms, both with weights of 1. We need to use the `set_weight()`. Make a new `ScoreFunction` and set the weights accordingly. This is how we set the full-atom attractive (`fa_atr`) and the full-atom repulsive (`fa_rep`) terms.\n",
        "\n",
        "```\n",
        "sfxn2 = ScoreFunction()\n",
        "sfxn2.set_weight(fa_atr, 1.0)\n",
        "sfxn2.set_weight(fa_rep, 1.0)\n",
        "```"
      ]
    },
    {
      "cell_type": "code",
      "execution_count": 6,
      "metadata": {
        "deletable": false,
        "id": "5_ZjSRTkzNlS",
        "nbgrader": {
          "cell_type": "code",
          "checksum": "d5a4cc23973c3913c6fc09e6bcc93934",
          "grade": true,
          "grade_id": "cell-c4c5c8d7de03487d",
          "locked": false,
          "points": 0,
          "schema_version": 3,
          "solution": true
        }
      },
      "outputs": [],
      "source": [
        "sfxn2 = ScoreFunction()\n",
        "sfxn2.set_weight(fa_atr, 1.0)\n",
        "sfxn2.set_weight(fa_rep, 1.0)"
      ]
    },
    {
      "cell_type": "markdown",
      "metadata": {
        "id": "-Fr6raCrzNlS"
      },
      "source": [
        "Lets compare the score of `ras` using the full-atom `ScoreFunction` versus the `ScoreFunction` we made above using only the attractive and repulsive terms.\n",
        "\n",
        "First, print the total energy of `ras` using `print(sfxn(ras))`\n",
        "Then, print the attractive and repulsive energy only of `ras` using `print(sfxn2(ras))`"
      ]
    },
    {
      "cell_type": "code",
      "execution_count": 7,
      "metadata": {
        "deletable": false,
        "id": "GDSPGYsrzNlS",
        "nbgrader": {
          "cell_type": "code",
          "checksum": "5257f9fe320267a5e7eb764a7930eb1e",
          "grade": true,
          "grade_id": "cell-7013e0c60ab37e65",
          "locked": false,
          "points": 0,
          "schema_version": 3,
          "solution": true
        },
        "colab": {
          "base_uri": "https://localhost:8080/"
        },
        "outputId": "1a49cc73-3201-46e5-a2d6-38dc044a74e2"
      },
      "outputs": [
        {
          "output_type": "stream",
          "name": "stdout",
          "text": [
            "basic.io.database: Database file opened: scoring/score_functions/elec_cp_reps.dat\n",
            "core.scoring.elec.util: Read 40 countpair representative atoms\n",
            "core.pack.dunbrack.RotamerLibrary: shapovalov_lib_fixes_enable option is true.\n",
            "core.pack.dunbrack.RotamerLibrary: shapovalov_lib::shap_dun10_smooth_level of 1( aka lowest_smooth ) got activated.\n",
            "core.pack.dunbrack.RotamerLibrary: Binary rotamer library selected: /usr/local/lib/python3.10/dist-packages/pyrosetta/database/rotamer/shapovalov/StpDwn_0-0-0/Dunbrack10.lib.bin\n",
            "core.pack.dunbrack.RotamerLibrary: Using Dunbrack library binary file '/usr/local/lib/python3.10/dist-packages/pyrosetta/database/rotamer/shapovalov/StpDwn_0-0-0/Dunbrack10.lib.bin'.\n",
            "core.pack.dunbrack.RotamerLibrary: Dunbrack 2010 library took 0.25675 seconds to load from binary\n",
            "3856.127931662087\n",
            "65.88066458854428\n"
          ]
        }
      ],
      "source": [
        "# print total energy of ras\n",
        "print(sfxn(ras))\n",
        "\n",
        "# print the attractive and repulsive energy of ras\n",
        "print(sfxn2(ras))"
      ]
    },
    {
      "cell_type": "markdown",
      "metadata": {
        "id": "HJwpgPT9zNlT"
      },
      "source": [
        "## Energy Breakdown"
      ]
    },
    {
      "cell_type": "markdown",
      "metadata": {
        "id": "ooJG7mTYzNlT"
      },
      "source": [
        "Using the full-atom `ScoreFunction` `sfxn`, break the energy of `ras` down into its individual pieces with the `sfxn.show(ras)` method. Which are the three most dominant contributions, and what are their values? Is this what you would have expected? Why? Note which terms are positive and negative"
      ]
    },
    {
      "cell_type": "code",
      "execution_count": 8,
      "metadata": {
        "deletable": false,
        "id": "EYn48NU5zNlU",
        "nbgrader": {
          "cell_type": "code",
          "checksum": "d85657d8e29552b8d01d7f4d02eea8dc",
          "grade": true,
          "grade_id": "cell-1985d733350b2c83",
          "locked": false,
          "points": 0,
          "schema_version": 3,
          "solution": true
        },
        "colab": {
          "base_uri": "https://localhost:8080/"
        },
        "outputId": "ec65dda2-b353-4e80-b2f9-0def4ae4c0c1"
      },
      "outputs": [
        {
          "output_type": "stream",
          "name": "stdout",
          "text": [
            "core.scoring.ScoreFunction: \n",
            "------------------------------------------------------------\n",
            " Scores                       Weight   Raw Score Wghtd.Score\n",
            "------------------------------------------------------------\n",
            " fa_atr                       1.000   -4465.653   -4465.653\n",
            " fa_rep                       0.550    4531.534    2492.343\n",
            " fa_sol                       1.000    3153.321    3153.321\n",
            " fa_intra_rep                 0.005    3064.638      15.323\n",
            " fa_intra_sol_xover4          1.000     200.904     200.904\n",
            " lk_ball_wtd                  1.000     -54.711     -54.711\n",
            " fa_elec                      1.000   -1083.192   -1083.192\n",
            " pro_close                    1.250     270.565     338.206\n",
            " hbond_sr_bb                  1.000    -181.224    -181.224\n",
            " hbond_lr_bb                  1.000    -130.586    -130.586\n",
            " hbond_bb_sc                  1.000     -73.431     -73.431\n",
            " hbond_sc                     1.000     -53.769     -53.769\n",
            " dslf_fa13                    1.250       0.000       0.000\n",
            " omega                        0.400     149.145      59.658\n",
            " fa_dun                       0.700    4635.733    3245.013\n",
            " p_aa_pp                      0.600    -101.427     -60.856\n",
            " yhh_planarity                0.625       0.000       0.000\n",
            " ref                          1.000     188.455     188.455\n",
            " rama_prepro                  0.450     591.830     266.324\n",
            "---------------------------------------------------\n",
            " Total weighted score:                     3856.128\n"
          ]
        }
      ],
      "source": [
        "# use the sfxn.show() method\n",
        "sfxn.show(ras)"
      ]
    },
    {
      "cell_type": "code",
      "execution_count": null,
      "metadata": {
        "code_folding": [],
        "id": "9I-szvdwzNlZ"
      },
      "outputs": [],
      "source": [
        "# Your response here: what are the three most dominant contributions?\n",
        "#The 3 most dominant contributions are from energy functions fa_atr (-4465.653), fa_dun(3245.013), fa_sol(3153.321) since they have the highest corresponding magnitude for weighted score. \n",
        "#This means they affect the protein structure/the phenomenon of protein folding the most. \n",
        "#fa_atr has a negative weight meaning it is an attractive force which makes sense.\n",
        "#this was expected since attractive forces and solvent forces have a huge impact on protein folding. "
      ]
    },
    {
      "cell_type": "markdown",
      "metadata": {
        "id": "p6hEyO4HzNla"
      },
      "source": [
        "Unweighted, individual component energies of each residue in a structure are stored in the `Pose` object and can be accessed by the `energies()` method. For example, to break down the energy into each residue's contribution, we use: \n",
        "```\n",
        "print(ras.energies().show(<n>))\n",
        "```\n",
        "Where `<n>` is the residue number.\n",
        "\n",
        "What are the total van der Waals, solvation, and hydrogen-bonding contributions of residue 24?\n",
        "\n",
        "Note: The _backbone_ hydrogen-bonding terms for each residue are not available from the `Energies` object. You can get them by using EnergyMethodOptions. See http://www.pyrosetta.org/documentation#TOC-Hydrogen-Bonds-and-Hydrogen-Bond-Scoring."
      ]
    },
    {
      "cell_type": "code",
      "execution_count": 10,
      "metadata": {
        "deletable": false,
        "id": "68qmmaVxzNla",
        "nbgrader": {
          "cell_type": "code",
          "checksum": "b23fb9ecb7c8501235b5a54cc0567a0c",
          "grade": true,
          "grade_id": "cell-cd5175f1ed3fd0ad",
          "locked": false,
          "points": 0,
          "schema_version": 3,
          "solution": true
        },
        "colab": {
          "base_uri": "https://localhost:8080/"
        },
        "outputId": "82130c2a-1973-4757-89ab-05ae849d8116"
      },
      "outputs": [
        {
          "output_type": "stream",
          "name": "stdout",
          "text": [
            "core.scoring.Energies: E               fa_atr        fa_rep        fa_sol  fa_intra_repfa_intra_sol_x   lk_ball_wtd       fa_elec     pro_close   hbond_sr_bb   hbond_lr_bb   hbond_bb_sc      hbond_sc     dslf_fa13         omega        fa_dun       p_aa_pp yhh_planarity           ref   rama_prepro\n",
            "core.scoring.Energies: E(i)  24         -7.40         19.03          2.94          8.76          0.09         -0.11         -0.56          0.00          0.00          0.00          0.00          0.00          0.00          0.12          2.68          0.06          0.00          2.30          3.58\n",
            "None\n"
          ]
        }
      ],
      "source": [
        "print(ras.energies().show(24))"
      ]
    },
    {
      "cell_type": "code",
      "execution_count": null,
      "metadata": {
        "id": "GMBchknbzNla"
      },
      "outputs": [],
      "source": [
        "#total van der waals energy = fa_rep - fa_atr = 0.55-1 = -0.45\n",
        "#solvation energy = fa_sol= 2.94 kcal/mol\n",
        "#hydrogen-bonding energy = hbond_bb_sc = 0.0\n",
        "#the reason why hydrogen bonding energy is 0 is that they are being cancelled out by other the hydrogen bond energies from surroundign residues "
      ]
    },
    {
      "cell_type": "markdown",
      "metadata": {
        "id": "ChUlo_AMzNlb"
      },
      "source": [
        "The van der Waals, solvation, and electrostatic terms are atom-atom pairwise energies calculated from a pre-tabulated lookup table, dependent upon the distance between the two atoms and their types. You can access this lookup table, called the `etable` directly to check these energy calculations on an atom-by-atom basis. Use the `etable_atom_pair_energies` function which returns a triplet of energies for attractive, repulsive and solvation scores.\n",
        "\n",
        "(Note that the `etable_atom_pair_energies()` function requires `Residue` objects, and atom indices (integers), and not the `AtomID` objects we saw in Workshop #2. For more info, look at the [documentation](https://graylab.jhu.edu/PyRosetta.documentation/pyrosetta.toolbox.atom_pair_energy.html?highlight=etable_atom_pair_energies#pyrosetta.toolbox.atom_pair_energy.etable_atom_pair_energies).)\n",
        "\n",
        "**Practice:** What are the attractive, repulsive, solvation, and electrostatic components between the nitrogen of residue 24 and the oxygen of residue 20? \n"
      ]
    },
    {
      "cell_type": "code",
      "execution_count": 18,
      "metadata": {
        "deletable": false,
        "id": "kGnaDYbVzNlb",
        "nbgrader": {
          "cell_type": "code",
          "checksum": "8c61d70270f52e1a933d45656832b8e3",
          "grade": true,
          "grade_id": "cell-7ce1bc99f2fd0b00",
          "locked": false,
          "points": 0,
          "schema_version": 3,
          "solution": true
        },
        "colab": {
          "base_uri": "https://localhost:8080/"
        },
        "outputId": "f7139ae9-51e2-4342-82f4-a1c77974469d"
      },
      "outputs": [
        {
          "output_type": "execute_result",
          "data": {
            "text/plain": [
              "(-0.1505855046001568, 0.0, 0.5903452111877214, 2.173111777247698)"
            ]
          },
          "metadata": {},
          "execution_count": 18
        }
      ],
      "source": [
        "\n",
        "res24 = ras.residue(24)\n",
        "res20 = ras.residue(20)\n",
        "res24_N = ras.residue(24).atom_index(\"N\")\n",
        "res20_O = ras.residue(20).atom_index(\"O\")\n",
        "pyrosetta.toolbox.atom_pair_energy.etable_atom_pair_energies(res24, res24_N, res20, res20_O, sfxn)"
      ]
    },
    {
      "cell_type": "markdown",
      "source": [
        "attractive = -0.1505855046001568, repulsive = 0.0, solvation = 0.5903452111877214, electrostatic = 2.173111777247698"
      ],
      "metadata": {
        "id": "C7YEY4uRVU4A"
      }
    },
    {
      "cell_type": "markdown",
      "metadata": {
        "id": "H8pxmoaezNlb"
      },
      "source": [
        "# Practice: Analyzing energy between residues\n",
        "Keywords: pose_from_rcsb(), pdb2pose(), EMapVector()"
      ]
    },
    {
      "cell_type": "code",
      "execution_count": 20,
      "metadata": {
        "id": "8e6X49AmzNlb",
        "colab": {
          "base_uri": "https://localhost:8080/"
        },
        "outputId": "5bf1b275-b2d3-4095-c982-6e287055ff21"
      },
      "outputs": [
        {
          "output_type": "stream",
          "name": "stdout",
          "text": [
            "core.scoring.ScoreFunctionFactory: SCOREFUNCTION: ref2015\n"
          ]
        }
      ],
      "source": [
        "# From previous section:\n",
        "sfxn = get_score_function(True)"
      ]
    },
    {
      "cell_type": "markdown",
      "metadata": {
        "id": "hjYPkNfTzNlc"
      },
      "source": [
        "Analyze the energy between residues Y102 and Q408 in cetuximab (PDB code 1YY9, use the `pyrosetta.toolbox.pose_from_rcsb` function to download it and load it into a new `Pose` object) by following the steps below. \n",
        "\n",
        "A. Internally, a Pose object has a list of residues, numbered starting from 1. To find the residue numbers of Y102 of chain D and Q408 of chain A, use the residue chain identifier and the PDB residue number to convert to the pose numbering using the `pose2pdb()` method:\n",
        "\n",
        "```\n",
        "pose = pyrosetta.toolbox.pose_from_rcsb(\"1YY9\")\n",
        "res102 = pose.pdb_info().pdb2pose(\"D\", 102)\n",
        "res408 = pose.pdb_info().pdb2pose(\"A\", 408)\n",
        "```"
      ]
    },
    {
      "cell_type": "code",
      "execution_count": null,
      "metadata": {
        "id": "ulpZSpHIzNlc"
      },
      "outputs": [],
      "source": [
        "# get the pose numbers for Y102 (chain D) and Q408 (chain A)"
      ]
    },
    {
      "cell_type": "code",
      "execution_count": 21,
      "metadata": {
        "deletable": false,
        "id": "l82MBk4BzNlc",
        "nbgrader": {
          "cell_type": "code",
          "checksum": "021521771cae846244b7da6fe1e5fbfe",
          "grade": true,
          "grade_id": "cell-870a6043eeeae1de",
          "locked": false,
          "points": 0,
          "schema_version": 3,
          "solution": true
        },
        "colab": {
          "base_uri": "https://localhost:8080/"
        },
        "outputId": "0ce249bf-8f5b-470f-e2c3-012d65e88912"
      },
      "outputs": [
        {
          "output_type": "stream",
          "name": "stdout",
          "text": [
            "core.import_pose.import_pose: File '1YY9.clean.pdb' automatically determined to be of type PDB\n",
            "core.conformation.Conformation: [ WARNING ] missing heavyatom:  CG  on residue GLU:NtermProteinFull 1\n",
            "core.conformation.Conformation: [ WARNING ] missing heavyatom:  CD  on residue GLU:NtermProteinFull 1\n",
            "core.conformation.Conformation: [ WARNING ] missing heavyatom:  OE1 on residue GLU:NtermProteinFull 1\n",
            "core.conformation.Conformation: [ WARNING ] missing heavyatom:  OE2 on residue GLU:NtermProteinFull 1\n",
            "core.conformation.Conformation: [ WARNING ] missing heavyatom:  CG  on residue GLU 2\n",
            "core.conformation.Conformation: [ WARNING ] missing heavyatom:  CD  on residue GLU 2\n",
            "core.conformation.Conformation: [ WARNING ] missing heavyatom:  OE1 on residue GLU 2\n",
            "core.conformation.Conformation: [ WARNING ] missing heavyatom:  OE2 on residue GLU 2\n",
            "core.conformation.Conformation: [ WARNING ] missing heavyatom:  CG  on residue LYS 3\n",
            "core.conformation.Conformation: [ WARNING ] missing heavyatom:  CD  on residue LYS 3\n",
            "core.conformation.Conformation: [ WARNING ] missing heavyatom:  CE  on residue LYS 3\n",
            "core.conformation.Conformation: [ WARNING ] missing heavyatom:  NZ  on residue LYS 3\n",
            "core.conformation.Conformation: [ WARNING ] missing heavyatom:  CG  on residue GLN 138\n",
            "core.conformation.Conformation: [ WARNING ] missing heavyatom:  CD  on residue GLN 138\n",
            "core.conformation.Conformation: [ WARNING ] missing heavyatom:  OE1 on residue GLN 138\n",
            "core.conformation.Conformation: [ WARNING ] missing heavyatom:  NE2 on residue GLN 138\n",
            "core.conformation.Conformation: [ WARNING ] missing heavyatom:  CG  on residue GLU 179\n",
            "core.conformation.Conformation: [ WARNING ] missing heavyatom:  CD  on residue GLU 179\n",
            "core.conformation.Conformation: [ WARNING ] missing heavyatom:  OE1 on residue GLU 179\n",
            "core.conformation.Conformation: [ WARNING ] missing heavyatom:  OE2 on residue GLU 179\n",
            "core.conformation.Conformation: [ WARNING ] missing heavyatom:  CG  on residue GLN 192\n",
            "core.conformation.Conformation: [ WARNING ] missing heavyatom:  CD  on residue GLN 192\n",
            "core.conformation.Conformation: [ WARNING ] missing heavyatom:  OE1 on residue GLN 192\n",
            "core.conformation.Conformation: [ WARNING ] missing heavyatom:  NE2 on residue GLN 192\n",
            "core.conformation.Conformation: [ WARNING ] missing heavyatom:  CG  on residue GLN 193\n",
            "core.conformation.Conformation: [ WARNING ] missing heavyatom:  CD  on residue GLN 193\n",
            "core.conformation.Conformation: [ WARNING ] missing heavyatom:  OE1 on residue GLN 193\n",
            "core.conformation.Conformation: [ WARNING ] missing heavyatom:  NE2 on residue GLN 193\n",
            "core.conformation.Conformation: [ WARNING ] missing heavyatom:  CG  on residue GLU 220\n",
            "core.conformation.Conformation: [ WARNING ] missing heavyatom:  CD  on residue GLU 220\n",
            "core.conformation.Conformation: [ WARNING ] missing heavyatom:  OE1 on residue GLU 220\n",
            "core.conformation.Conformation: [ WARNING ] missing heavyatom:  OE2 on residue GLU 220\n",
            "core.conformation.Conformation: [ WARNING ] missing heavyatom:  CG  on residue GLU 257\n",
            "core.conformation.Conformation: [ WARNING ] missing heavyatom:  CD  on residue GLU 257\n",
            "core.conformation.Conformation: [ WARNING ] missing heavyatom:  OE1 on residue GLU 257\n",
            "core.conformation.Conformation: [ WARNING ] missing heavyatom:  OE2 on residue GLU 257\n",
            "core.conformation.Conformation: [ WARNING ] missing heavyatom:  CG  on residue ARG 272\n",
            "core.conformation.Conformation: [ WARNING ] missing heavyatom:  CD  on residue ARG 272\n",
            "core.conformation.Conformation: [ WARNING ] missing heavyatom:  NE  on residue ARG 272\n",
            "core.conformation.Conformation: [ WARNING ] missing heavyatom:  CZ  on residue ARG 272\n",
            "core.conformation.Conformation: [ WARNING ] missing heavyatom:  NH1 on residue ARG 272\n",
            "core.conformation.Conformation: [ WARNING ] missing heavyatom:  NH2 on residue ARG 272\n",
            "core.conformation.Conformation: [ WARNING ] missing heavyatom:  CG  on residue ARG 299\n",
            "core.conformation.Conformation: [ WARNING ] missing heavyatom:  CD  on residue ARG 299\n",
            "core.conformation.Conformation: [ WARNING ] missing heavyatom:  NE  on residue ARG 299\n",
            "core.conformation.Conformation: [ WARNING ] missing heavyatom:  CZ  on residue ARG 299\n",
            "core.conformation.Conformation: [ WARNING ] missing heavyatom:  NH1 on residue ARG 299\n",
            "core.conformation.Conformation: [ WARNING ] missing heavyatom:  NH2 on residue ARG 299\n",
            "core.conformation.Conformation: [ WARNING ] missing heavyatom:  CG  on residue ARG 502\n",
            "core.conformation.Conformation: [ WARNING ] missing heavyatom:  CD  on residue ARG 502\n",
            "core.conformation.Conformation: [ WARNING ] missing heavyatom:  NE  on residue ARG 502\n",
            "core.conformation.Conformation: [ WARNING ] missing heavyatom:  CZ  on residue ARG 502\n",
            "core.conformation.Conformation: [ WARNING ] missing heavyatom:  NH1 on residue ARG 502\n",
            "core.conformation.Conformation: [ WARNING ] missing heavyatom:  NH2 on residue ARG 502\n",
            "core.conformation.Conformation: [ WARNING ] missing heavyatom:  CG  on residue GLU 518\n",
            "core.conformation.Conformation: [ WARNING ] missing heavyatom:  CD  on residue GLU 518\n",
            "core.conformation.Conformation: [ WARNING ] missing heavyatom:  OE1 on residue GLU 518\n",
            "core.conformation.Conformation: [ WARNING ] missing heavyatom:  OE2 on residue GLU 518\n",
            "core.conformation.Conformation: [ WARNING ] missing heavyatom:  CG  on residue GLU 520\n",
            "core.conformation.Conformation: [ WARNING ] missing heavyatom:  CD  on residue GLU 520\n",
            "core.conformation.Conformation: [ WARNING ] missing heavyatom:  OE1 on residue GLU 520\n",
            "core.conformation.Conformation: [ WARNING ] missing heavyatom:  OE2 on residue GLU 520\n",
            "core.conformation.Conformation: [ WARNING ] missing heavyatom:  CG  on residue ARG 522\n",
            "core.conformation.Conformation: [ WARNING ] missing heavyatom:  CD  on residue ARG 522\n",
            "core.conformation.Conformation: [ WARNING ] missing heavyatom:  NE  on residue ARG 522\n",
            "core.conformation.Conformation: [ WARNING ] missing heavyatom:  CZ  on residue ARG 522\n",
            "core.conformation.Conformation: [ WARNING ] missing heavyatom:  NH1 on residue ARG 522\n",
            "core.conformation.Conformation: [ WARNING ] missing heavyatom:  NH2 on residue ARG 522\n",
            "core.conformation.Conformation: [ WARNING ] missing heavyatom:  OXT on residue THR:CtermProteinFull 613\n",
            "core.conformation.Conformation: [ WARNING ] missing heavyatom:  CG  on residue ARG 631\n",
            "core.conformation.Conformation: [ WARNING ] missing heavyatom:  CD  on residue ARG 631\n",
            "core.conformation.Conformation: [ WARNING ] missing heavyatom:  NE  on residue ARG 631\n",
            "core.conformation.Conformation: [ WARNING ] missing heavyatom:  CZ  on residue ARG 631\n",
            "core.conformation.Conformation: [ WARNING ] missing heavyatom:  NH1 on residue ARG 631\n",
            "core.conformation.Conformation: [ WARNING ] missing heavyatom:  NH2 on residue ARG 631\n",
            "core.conformation.Conformation: [ WARNING ] missing heavyatom:  CG  on residue LYS 739\n",
            "core.conformation.Conformation: [ WARNING ] missing heavyatom:  CD  on residue LYS 739\n",
            "core.conformation.Conformation: [ WARNING ] missing heavyatom:  CE  on residue LYS 739\n",
            "core.conformation.Conformation: [ WARNING ] missing heavyatom:  NZ  on residue LYS 739\n",
            "core.conformation.Conformation: [ WARNING ] missing heavyatom:  CG  on residue LYS 801\n",
            "core.conformation.Conformation: [ WARNING ] missing heavyatom:  CD  on residue LYS 801\n",
            "core.conformation.Conformation: [ WARNING ] missing heavyatom:  CE  on residue LYS 801\n",
            "core.conformation.Conformation: [ WARNING ] missing heavyatom:  NZ  on residue LYS 801\n",
            "core.conformation.Conformation: [ WARNING ] missing heavyatom:  OXT on residue ARG:CtermProteinFull 824\n",
            "core.conformation.Conformation: [ WARNING ] missing heavyatom:  CG  on residue ARG:CtermProteinFull 824\n",
            "core.conformation.Conformation: [ WARNING ] missing heavyatom:  CD  on residue ARG:CtermProteinFull 824\n",
            "core.conformation.Conformation: [ WARNING ] missing heavyatom:  NE  on residue ARG:CtermProteinFull 824\n",
            "core.conformation.Conformation: [ WARNING ] missing heavyatom:  CZ  on residue ARG:CtermProteinFull 824\n",
            "core.conformation.Conformation: [ WARNING ] missing heavyatom:  NH1 on residue ARG:CtermProteinFull 824\n",
            "core.conformation.Conformation: [ WARNING ] missing heavyatom:  NH2 on residue ARG:CtermProteinFull 824\n",
            "core.conformation.Conformation: [ WARNING ] missing heavyatom:  CG  on residue LYS 959\n",
            "core.conformation.Conformation: [ WARNING ] missing heavyatom:  CD  on residue LYS 959\n",
            "core.conformation.Conformation: [ WARNING ] missing heavyatom:  CE  on residue LYS 959\n",
            "core.conformation.Conformation: [ WARNING ] missing heavyatom:  NZ  on residue LYS 959\n",
            "core.conformation.Conformation: [ WARNING ] missing heavyatom:  CG  on residue LYS 1039\n",
            "core.conformation.Conformation: [ WARNING ] missing heavyatom:  CD  on residue LYS 1039\n",
            "core.conformation.Conformation: [ WARNING ] missing heavyatom:  CE  on residue LYS 1039\n",
            "core.conformation.Conformation: [ WARNING ] missing heavyatom:  NZ  on residue LYS 1039\n",
            "core.conformation.Conformation: [ WARNING ] missing heavyatom:  CG  on residue ARG 1040\n",
            "core.conformation.Conformation: [ WARNING ] missing heavyatom:  CD  on residue ARG 1040\n",
            "core.conformation.Conformation: [ WARNING ] missing heavyatom:  NE  on residue ARG 1040\n",
            "core.conformation.Conformation: [ WARNING ] missing heavyatom:  CZ  on residue ARG 1040\n",
            "core.conformation.Conformation: [ WARNING ] missing heavyatom:  NH1 on residue ARG 1040\n",
            "core.conformation.Conformation: [ WARNING ] missing heavyatom:  NH2 on residue ARG 1040\n",
            "core.conformation.Conformation: [ WARNING ] missing heavyatom:  OXT on residue LYS:CtermProteinFull 1044\n",
            "core.conformation.Conformation: [ WARNING ] missing heavyatom:  CG  on residue LYS:CtermProteinFull 1044\n",
            "core.conformation.Conformation: [ WARNING ] missing heavyatom:  CD  on residue LYS:CtermProteinFull 1044\n",
            "core.conformation.Conformation: [ WARNING ] missing heavyatom:  CE  on residue LYS:CtermProteinFull 1044\n",
            "core.conformation.Conformation: [ WARNING ] missing heavyatom:  NZ  on residue LYS:CtermProteinFull 1044\n",
            "core.conformation.Conformation: Found disulfide between residues 6 33\n",
            "core.conformation.Conformation: current variant for 6 CYS\n",
            "core.conformation.Conformation: current variant for 33 CYS\n",
            "core.conformation.Conformation: current variant for 6 CYD\n",
            "core.conformation.Conformation: current variant for 33 CYD\n",
            "core.conformation.Conformation: Found disulfide between residues 132 162\n",
            "core.conformation.Conformation: current variant for 132 CYS\n",
            "core.conformation.Conformation: current variant for 162 CYS\n",
            "core.conformation.Conformation: current variant for 132 CYD\n",
            "core.conformation.Conformation: current variant for 162 CYD\n",
            "core.conformation.Conformation: Found disulfide between residues 165 174\n",
            "core.conformation.Conformation: current variant for 165 CYS\n",
            "core.conformation.Conformation: current variant for 174 CYS\n",
            "core.conformation.Conformation: current variant for 165 CYD\n",
            "core.conformation.Conformation: current variant for 174 CYD\n",
            "core.conformation.Conformation: Found disulfide between residues 169 182\n",
            "core.conformation.Conformation: current variant for 169 CYS\n",
            "core.conformation.Conformation: current variant for 182 CYS\n",
            "core.conformation.Conformation: current variant for 169 CYD\n",
            "core.conformation.Conformation: current variant for 182 CYD\n",
            "core.conformation.Conformation: Found disulfide between residues 190 198\n",
            "core.conformation.Conformation: current variant for 190 CYS\n",
            "core.conformation.Conformation: current variant for 198 CYS\n",
            "core.conformation.Conformation: current variant for 190 CYD\n",
            "core.conformation.Conformation: current variant for 198 CYD\n",
            "core.conformation.Conformation: Found disulfide between residues 194 206\n",
            "core.conformation.Conformation: current variant for 194 CYS\n",
            "core.conformation.Conformation: current variant for 206 CYS\n",
            "core.conformation.Conformation: current variant for 194 CYD\n",
            "core.conformation.Conformation: current variant for 206 CYD\n",
            "core.conformation.Conformation: Found disulfide between residues 207 215\n",
            "core.conformation.Conformation: current variant for 207 CYS\n",
            "core.conformation.Conformation: current variant for 215 CYS\n",
            "core.conformation.Conformation: current variant for 207 CYD\n",
            "core.conformation.Conformation: current variant for 215 CYD\n",
            "core.conformation.Conformation: Found disulfide between residues 211 223\n",
            "core.conformation.Conformation: current variant for 211 CYS\n",
            "core.conformation.Conformation: current variant for 223 CYS\n",
            "core.conformation.Conformation: current variant for 211 CYD\n",
            "core.conformation.Conformation: current variant for 223 CYD\n",
            "core.conformation.Conformation: Found disulfide between residues 226 235\n",
            "core.conformation.Conformation: current variant for 226 CYS\n",
            "core.conformation.Conformation: current variant for 235 CYS\n",
            "core.conformation.Conformation: current variant for 226 CYD\n",
            "core.conformation.Conformation: current variant for 235 CYD\n",
            "core.conformation.Conformation: Found disulfide between residues 239 266\n",
            "core.conformation.Conformation: current variant for 239 CYS\n",
            "core.conformation.Conformation: current variant for 266 CYS\n",
            "core.conformation.Conformation: current variant for 239 CYD\n",
            "core.conformation.Conformation: current variant for 266 CYD\n",
            "core.conformation.Conformation: Found disulfide between residues 270 282\n",
            "core.conformation.Conformation: current variant for 270 CYS\n",
            "core.conformation.Conformation: current variant for 282 CYS\n",
            "core.conformation.Conformation: current variant for 270 CYD\n",
            "core.conformation.Conformation: current variant for 282 CYD\n",
            "core.conformation.Conformation: Found disulfide between residues 286 301\n",
            "core.conformation.Conformation: current variant for 286 CYS\n",
            "core.conformation.Conformation: current variant for 301 CYS\n",
            "core.conformation.Conformation: current variant for 286 CYD\n",
            "core.conformation.Conformation: current variant for 301 CYD\n",
            "core.conformation.Conformation: Found disulfide between residues 304 308\n",
            "core.conformation.Conformation: current variant for 304 CYS\n",
            "core.conformation.Conformation: current variant for 308 CYS\n",
            "core.conformation.Conformation: current variant for 304 CYD\n",
            "core.conformation.Conformation: current variant for 308 CYD\n",
            "core.conformation.Conformation: Found disulfide between residues 312 337\n",
            "core.conformation.Conformation: current variant for 312 CYS\n",
            "core.conformation.Conformation: current variant for 337 CYS\n",
            "core.conformation.Conformation: current variant for 312 CYD\n",
            "core.conformation.Conformation: current variant for 337 CYD\n",
            "core.conformation.Conformation: Found disulfide between residues 445 474\n",
            "core.conformation.Conformation: current variant for 445 CYS\n",
            "core.conformation.Conformation: current variant for 474 CYS\n",
            "core.conformation.Conformation: current variant for 445 CYD\n",
            "core.conformation.Conformation: current variant for 474 CYD\n",
            "core.conformation.Conformation: Found disulfide between residues 481 490\n",
            "core.conformation.Conformation: current variant for 481 CYS\n",
            "core.conformation.Conformation: current variant for 490 CYS\n",
            "core.conformation.Conformation: current variant for 481 CYD\n",
            "core.conformation.Conformation: current variant for 490 CYD\n",
            "core.conformation.Conformation: Found disulfide between residues 485 498\n",
            "core.conformation.Conformation: current variant for 485 CYS\n",
            "core.conformation.Conformation: current variant for 498 CYS\n",
            "core.conformation.Conformation: current variant for 485 CYD\n",
            "core.conformation.Conformation: current variant for 498 CYD\n",
            "core.conformation.Conformation: Found disulfide between residues 501 510\n",
            "core.conformation.Conformation: current variant for 501 CYS\n",
            "core.conformation.Conformation: current variant for 510 CYS\n",
            "core.conformation.Conformation: current variant for 501 CYD\n",
            "core.conformation.Conformation: current variant for 510 CYD\n",
            "core.conformation.Conformation: Found disulfide between residues 514 530\n",
            "core.conformation.Conformation: current variant for 514 CYS\n",
            "core.conformation.Conformation: current variant for 530 CYS\n",
            "core.conformation.Conformation: current variant for 514 CYD\n",
            "core.conformation.Conformation: current variant for 530 CYD\n",
            "core.conformation.Conformation: Found disulfide between residues 533 546\n",
            "core.conformation.Conformation: current variant for 533 CYS\n",
            "core.conformation.Conformation: current variant for 546 CYS\n",
            "core.conformation.Conformation: current variant for 533 CYD\n",
            "core.conformation.Conformation: current variant for 546 CYD\n",
            "core.conformation.Conformation: Found disulfide between residues 537 554\n",
            "core.conformation.Conformation: current variant for 537 CYS\n",
            "core.conformation.Conformation: current variant for 554 CYS\n",
            "core.conformation.Conformation: current variant for 537 CYD\n",
            "core.conformation.Conformation: current variant for 554 CYD\n",
            "core.conformation.Conformation: Found disulfide between residues 557 566\n",
            "core.conformation.Conformation: current variant for 557 CYS\n",
            "core.conformation.Conformation: current variant for 566 CYS\n",
            "core.conformation.Conformation: current variant for 557 CYD\n",
            "core.conformation.Conformation: current variant for 566 CYD\n",
            "core.conformation.Conformation: Found disulfide between residues 570 592\n",
            "core.conformation.Conformation: current variant for 570 CYS\n",
            "core.conformation.Conformation: current variant for 592 CYS\n",
            "core.conformation.Conformation: current variant for 570 CYD\n",
            "core.conformation.Conformation: current variant for 592 CYD\n",
            "core.conformation.Conformation: Found disulfide between residues 595 603\n",
            "core.conformation.Conformation: current variant for 595 CYS\n",
            "core.conformation.Conformation: current variant for 603 CYS\n",
            "core.conformation.Conformation: current variant for 595 CYD\n",
            "core.conformation.Conformation: current variant for 603 CYD\n",
            "core.conformation.Conformation: Found disulfide between residues 599 611\n",
            "core.conformation.Conformation: current variant for 599 CYS\n",
            "core.conformation.Conformation: current variant for 611 CYS\n",
            "core.conformation.Conformation: current variant for 599 CYD\n",
            "core.conformation.Conformation: current variant for 611 CYD\n",
            "core.conformation.Conformation: Found disulfide between residues 636 701\n",
            "core.conformation.Conformation: current variant for 636 CYS\n",
            "core.conformation.Conformation: current variant for 701 CYS\n",
            "core.conformation.Conformation: current variant for 636 CYD\n",
            "core.conformation.Conformation: current variant for 701 CYD\n",
            "core.conformation.Conformation: Found disulfide between residues 747 807\n",
            "core.conformation.Conformation: current variant for 747 CYS\n",
            "core.conformation.Conformation: current variant for 807 CYS\n",
            "core.conformation.Conformation: current variant for 747 CYD\n",
            "core.conformation.Conformation: current variant for 807 CYD\n",
            "core.conformation.Conformation: Found disulfide between residues 846 919\n",
            "core.conformation.Conformation: current variant for 846 CYS\n",
            "core.conformation.Conformation: current variant for 919 CYS\n",
            "core.conformation.Conformation: current variant for 846 CYD\n",
            "core.conformation.Conformation: current variant for 919 CYD\n",
            "core.conformation.Conformation: Found disulfide between residues 970 1026\n",
            "core.conformation.Conformation: current variant for 970 CYS\n",
            "core.conformation.Conformation: current variant for 1026 CYS\n",
            "core.conformation.Conformation: current variant for 970 CYD\n",
            "core.conformation.Conformation: current variant for 1026 CYD\n",
            "core.pack.pack_missing_sidechains: packing residue number 1 because of missing atom number 6 atom name  CG\n",
            "core.pack.pack_missing_sidechains: packing residue number 2 because of missing atom number 6 atom name  CG\n",
            "core.pack.pack_missing_sidechains: packing residue number 3 because of missing atom number 6 atom name  CG\n",
            "core.pack.pack_missing_sidechains: packing residue number 138 because of missing atom number 6 atom name  CG\n",
            "core.pack.pack_missing_sidechains: packing residue number 179 because of missing atom number 6 atom name  CG\n",
            "core.pack.pack_missing_sidechains: packing residue number 192 because of missing atom number 6 atom name  CG\n",
            "core.pack.pack_missing_sidechains: packing residue number 193 because of missing atom number 6 atom name  CG\n",
            "core.pack.pack_missing_sidechains: packing residue number 220 because of missing atom number 6 atom name  CG\n",
            "core.pack.pack_missing_sidechains: packing residue number 257 because of missing atom number 6 atom name  CG\n",
            "core.pack.pack_missing_sidechains: packing residue number 272 because of missing atom number 6 atom name  CG\n",
            "core.pack.pack_missing_sidechains: packing residue number 299 because of missing atom number 6 atom name  CG\n",
            "core.pack.pack_missing_sidechains: packing residue number 502 because of missing atom number 6 atom name  CG\n",
            "core.pack.pack_missing_sidechains: packing residue number 518 because of missing atom number 6 atom name  CG\n",
            "core.pack.pack_missing_sidechains: packing residue number 520 because of missing atom number 6 atom name  CG\n",
            "core.pack.pack_missing_sidechains: packing residue number 522 because of missing atom number 6 atom name  CG\n",
            "core.pack.pack_missing_sidechains: packing residue number 631 because of missing atom number 6 atom name  CG\n",
            "core.pack.pack_missing_sidechains: packing residue number 739 because of missing atom number 6 atom name  CG\n",
            "core.pack.pack_missing_sidechains: packing residue number 801 because of missing atom number 6 atom name  CG\n",
            "core.pack.pack_missing_sidechains: packing residue number 824 because of missing atom number 7 atom name  CG\n",
            "core.pack.pack_missing_sidechains: packing residue number 959 because of missing atom number 6 atom name  CG\n",
            "core.pack.pack_missing_sidechains: packing residue number 1039 because of missing atom number 6 atom name  CG\n",
            "core.pack.pack_missing_sidechains: packing residue number 1040 because of missing atom number 6 atom name  CG\n",
            "core.pack.pack_missing_sidechains: packing residue number 1044 because of missing atom number 7 atom name  CG\n",
            "core.pack.task: Packer task: initialize from command line()\n",
            "core.scoring.ScoreFunctionFactory: SCOREFUNCTION: ref2015\n",
            "core.pack.pack_rotamers: built 313 rotamers at 23 positions.\n",
            "core.pack.interaction_graph.interaction_graph_factory: Instantiating DensePDInteractionGraph\n"
          ]
        }
      ],
      "source": [
        "pose = pyrosetta.toolbox.pose_from_rcsb(\"1YY9\")\n",
        "res102 = pose.pdb_info().pdb2pose(\"D\", 102)\n",
        "res408 = pose.pdb_info().pdb2pose(\"A\", 408)"
      ]
    },
    {
      "cell_type": "markdown",
      "metadata": {
        "id": "-A36azVazNld"
      },
      "source": [
        "B. Score the pose and determine the van der Waals energies and solvation energy between these two residues. Use the following commands to isolate contributions from particular pairs of residues, where `rsd102` and `rsd408` are the two residue objects of interest from above (not the residue number -- use `pose.residue(res_num)` to access the objects): \n",
        "\n",
        "```\n",
        "emap = EMapVector()\n",
        "sfxn.eval_ci_2b(pose.residue(res102), pose.residue(res408), pose, emap)\n",
        "print(emap[fa_atr])\n",
        "print(emap[fa_rep])\n",
        "print(emap[fa_sol])\n",
        "```"
      ]
    },
    {
      "cell_type": "code",
      "execution_count": 24,
      "metadata": {
        "code_folding": [],
        "deletable": false,
        "id": "Ka_VyU34zNld",
        "nbgrader": {
          "cell_type": "code",
          "checksum": "c7eb996bd82c409aba707dab13c6e707",
          "grade": true,
          "grade_id": "cell-1ffc5699ad9c088b",
          "locked": false,
          "points": 0,
          "schema_version": 3,
          "solution": true
        },
        "colab": {
          "base_uri": "https://localhost:8080/"
        },
        "outputId": "3cf189f3-4d52-4862-f1a6-d859ef45b376"
      },
      "outputs": [
        {
          "output_type": "stream",
          "name": "stdout",
          "text": [
            "-1.2098840439684349\n",
            "0.10835353848860374\n",
            "1.5729435146961963\n"
          ]
        }
      ],
      "source": [
        "emap = EMapVector()\n",
        "sfxn.eval_ci_2b(pose.residue(res102), pose.residue(res408), pose, emap)\n",
        "print(emap[fa_atr])\n",
        "print(emap[fa_rep])\n",
        "print(emap[fa_sol])"
      ]
    },
    {
      "cell_type": "markdown",
      "metadata": {
        "id": "l6em7N2azNlf"
      },
      "source": [
        "What is the energy of Proline34? What about Alanine66? Which residue has lower energy?"
      ]
    },
    {
      "cell_type": "code",
      "source": [
        "#energy for proline34\n",
        "print(ras.energies().show(34))"
      ],
      "metadata": {
        "colab": {
          "base_uri": "https://localhost:8080/"
        },
        "id": "d0rFZ0UiYDwe",
        "outputId": "652fbaa1-ea36-4042-a48c-3700044cd60d"
      },
      "execution_count": 26,
      "outputs": [
        {
          "output_type": "stream",
          "name": "stdout",
          "text": [
            "core.scoring.Energies: E               fa_atr        fa_rep        fa_sol  fa_intra_repfa_intra_sol_x   lk_ball_wtd       fa_elec     pro_close   hbond_sr_bb   hbond_lr_bb   hbond_bb_sc      hbond_sc     dslf_fa13         omega        fa_dun       p_aa_pp yhh_planarity           ref   rama_prepro\n",
            "core.scoring.Energies: E(i)  34         -2.69          0.77          2.19          0.29          0.05         -0.07          0.09         28.89          0.00          0.00          0.00          0.00          0.00          0.70         13.95         -0.16          0.00         -1.64          0.86\n",
            "None\n"
          ]
        }
      ]
    },
    {
      "cell_type": "code",
      "source": [
        "#energy for alanine66\n",
        "print(ras.energies().show(66))"
      ],
      "metadata": {
        "colab": {
          "base_uri": "https://localhost:8080/"
        },
        "id": "HmoqpO3daJmd",
        "outputId": "ce8444a0-23f9-4812-b78f-268e51b03da3"
      },
      "execution_count": 27,
      "outputs": [
        {
          "output_type": "stream",
          "name": "stdout",
          "text": [
            "core.scoring.Energies: E               fa_atr        fa_rep        fa_sol  fa_intra_repfa_intra_sol_x   lk_ball_wtd       fa_elec     pro_close   hbond_sr_bb   hbond_lr_bb   hbond_bb_sc      hbond_sc     dslf_fa13         omega        fa_dun       p_aa_pp yhh_planarity           ref   rama_prepro\n",
            "core.scoring.Energies: E(i)  66         -1.99          0.82          1.68          0.64          0.00          0.04          2.18          0.00          0.00          0.00          0.00          0.00          0.00          0.37          0.00          0.48          0.00          1.32          5.28\n",
            "None\n"
          ]
        }
      ]
    },
    {
      "cell_type": "markdown",
      "source": [
        "fa_atr energy is higher for proline34, but fa_rep is higher for alanine, fa_sol is higher for proline34, but fa_elec is higher for alanine66. However, all the different kinds of hydrogen bond energies are 0 for both of them. "
      ],
      "metadata": {
        "id": "6VvAexC-d4gD"
      }
    },
    {
      "cell_type": "code",
      "source": [
        "#total energy for proline34\n",
        "ras.energies().residue_total_energy(34)"
      ],
      "metadata": {
        "colab": {
          "base_uri": "https://localhost:8080/"
        },
        "id": "7aWrLMZtdaRX",
        "outputId": "cb2ec3d1-a698-4ff6-befb-7818cde8ab06"
      },
      "execution_count": 28,
      "outputs": [
        {
          "output_type": "execute_result",
          "data": {
            "text/plain": [
              "44.79722328768828"
            ]
          },
          "metadata": {},
          "execution_count": 28
        }
      ]
    },
    {
      "cell_type": "code",
      "source": [
        "#total energy for alanine66\n",
        "ras.energies().residue_total_energy(66)"
      ],
      "metadata": {
        "colab": {
          "base_uri": "https://localhost:8080/"
        },
        "id": "LDwbtu9Wdrsq",
        "outputId": "0c3262ba-886e-4aa3-f23e-eac51c10e696"
      },
      "execution_count": 29,
      "outputs": [
        {
          "output_type": "execute_result",
          "data": {
            "text/plain": [
              "6.493099323481994"
            ]
          },
          "metadata": {},
          "execution_count": 29
        }
      ]
    },
    {
      "cell_type": "code",
      "execution_count": null,
      "metadata": {
        "id": "fGzX2RupzNlg"
      },
      "outputs": [],
      "source": [
        "# your response here\n",
        "proline34 has a higher energy level than alanine66. "
      ]
    },
    {
      "cell_type": "markdown",
      "source": [
        "For residue 24 from ras, it corresponds to isoleucine. This has a alkyl group as a side chain (non-polar) and hence there are no electronegative atoms that are bonded with hydrogen atoms in the side chain for hydrogen bonding to take place. Hence, mostly hydrophobic interactions would take place. "
      ],
      "metadata": {
        "id": "QpdNp_6ejgQV"
      }
    },
    {
      "cell_type": "markdown",
      "metadata": {
        "id": "UCYtHYRXzNlj"
      },
      "source": [
        "## References\n",
        "This Jupyter notebook is an adapted version of \"Workshop #3: Scoring\" in the PyRosetta workbook: https://graylab.jhu.edu/pyrosetta/downloads/documentation/pyrosetta4_online_format/PyRosetta4_Workshop3_Scoring.pdf"
      ]
    }
  ],
  "metadata": {
    "colab": {
      "provenance": []
    },
    "kernelspec": {
      "display_name": "Python 3",
      "language": "python",
      "name": "python3"
    },
    "language_info": {
      "codemirror_mode": {
        "name": "ipython",
        "version": 3
      },
      "file_extension": ".py",
      "mimetype": "text/x-python",
      "name": "python",
      "nbconvert_exporter": "python",
      "pygments_lexer": "ipython3",
      "version": "3.7.7"
    },
    "toc": {
      "base_numbering": 1,
      "nav_menu": {},
      "number_sections": true,
      "sideBar": true,
      "skip_h1_title": false,
      "title_cell": "Table of Contents",
      "title_sidebar": "Contents",
      "toc_cell": false,
      "toc_position": {},
      "toc_section_display": true,
      "toc_window_display": false
    }
  },
  "nbformat": 4,
  "nbformat_minor": 0
}